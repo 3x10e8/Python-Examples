{
 "cells": [
  {
   "cell_type": "markdown",
   "metadata": {},
   "source": [
    "# Basic Example"
   ]
  },
  {
   "cell_type": "code",
   "execution_count": 1,
   "metadata": {},
   "outputs": [],
   "source": [
    "import os\n",
    "import sys\n",
    "srcpath = os.path.realpath('../SourceFiles')\n",
    "sys.path.append(srcpath)\n",
    "import pyte_visa_utils as pyte"
   ]
  },
  {
   "cell_type": "code",
   "execution_count": 2,
   "metadata": {
    "ExecuteTime": {
     "end_time": "2021-01-07T11:25:11.819781Z",
     "start_time": "2021-01-07T11:25:05.844282Z"
    }
   },
   "outputs": [],
   "source": [
    "%matplotlib notebook\n",
    "\n",
    "import numpy as np\n",
    "import time\n",
    "import ipywidgets as widgets\n",
    "from IPython.core.debugger import set_trace\n",
    "from IPython.core.display import display, HTML\n",
    "from scipy.signal import chirp\n",
    "import matplotlib.pyplot as plt"
   ]
  },
  {
   "cell_type": "code",
   "execution_count": 3,
   "metadata": {
    "ExecuteTime": {
     "end_time": "2021-01-07T11:25:16.200261Z",
     "start_time": "2021-01-07T11:25:16.009667Z"
    },
    "jupyter": {
     "source_hidden": true
    }
   },
   "outputs": [
    {
     "name": "stdout",
     "output_type": "stream",
     "text": [
      "Tabor Electronics,P2584M,000000220725,1.115.0\n"
     ]
    }
   ],
   "source": [
    "# Connect to instrument\n",
    "\n",
    "# Please choose appropriate address:\n",
    "inst_addr = 'TCPIP::172.16.10.2::5025::SOCKET'\n",
    "\n",
    "inst = pyte.open_session(inst_addr)\n",
    "resp = inst.query(\"*IDN?\")\n",
    "print(resp)"
   ]
  },
  {
   "cell_type": "code",
   "execution_count": 4,
   "metadata": {
    "ExecuteTime": {
     "end_time": "2021-01-07T11:25:20.980265Z",
     "start_time": "2021-01-07T11:25:20.742251Z"
    },
    "jupyter": {
     "source_hidden": true
    }
   },
   "outputs": [],
   "source": [
    "# Some initializations\n",
    "\n",
    "paranoia_level = 1\n",
    "\n",
    "cmd = \"*CLS\"\n",
    "pyte.send_cmd(inst, cmd, paranoia_level)\n",
    "\n",
    "cmd = \"*RST\"\n",
    "#pyte.send_cmd(inst, cmd, paranoia_level)\n",
    "\n",
    "cmd = \":INST:CHAN 1\"\n",
    "pyte.send_cmd(inst, cmd, paranoia_level)\n",
    "\n",
    "cmd = \":FREQ:RAST 1e9\"\n",
    "pyte.send_cmd(inst, cmd, paranoia_level)\n",
    "\n",
    "#cmd = \":INIT:CONT ON\"\n",
    "#pyte.send_cmd(inst, cmd, paranoia_level)\n",
    "\n",
    "cmd = \":TRAC:DEL:ALL\"\n",
    "pyte.send_cmd(inst, cmd, paranoia_level)"
   ]
  },
  {
   "cell_type": "code",
   "execution_count": 8,
   "metadata": {
    "ExecuteTime": {
     "end_time": "2021-01-07T11:35:16.317838Z",
     "start_time": "2021-01-07T11:35:16.307775Z"
    }
   },
   "outputs": [
    {
     "name": "stdout",
     "output_type": "stream",
     "text": [
      "DAC mode M0 \n",
      "Number of channels: 4\n"
     ]
    }
   ],
   "source": [
    "# Get the DAC mode (8 bits or 16 bits)\n",
    "resp = inst.query(':SYST:INF:DAC?')\n",
    "dac_mode = resp\n",
    "print('DAC mode {0} '.format(dac_mode))\n",
    "\n",
    "if dac_mode == 'M0':\n",
    "    max_dac = 65535\n",
    "    data_type = np.uint16 \n",
    "else:\n",
    "    max_dac = 255\n",
    "    data_type = np.uint8 \n",
    "    \n",
    "half_dac = max_dac / 2.0\n",
    "\n",
    "# Get number of channels\n",
    "resp = inst.query(\":INST:CHAN? MAX\")\n",
    "print(\"Number of channels: \" + resp)\n",
    "num_channels = int(resp)"
   ]
  },
  {
   "cell_type": "code",
   "execution_count": 9,
   "metadata": {
    "ExecuteTime": {
     "end_time": "2021-01-07T11:41:29.547407Z",
     "start_time": "2021-01-07T11:41:29.489054Z"
    }
   },
   "outputs": [],
   "source": [
    "# Build 12 waveforms\n",
    "\n",
    "seglen = 81920\n",
    "num_cycles = (1, 2, 4, 8)\n",
    "\n",
    "waves = [ None for _ in range(12)]\n",
    "\n",
    "\n",
    "for ii in range(4):\n",
    "    ncycles = num_cycles[ii]\n",
    "    cyclelen = seglen / ncycles\n",
    "    \n",
    "    x = np.linspace(\n",
    "        start=0, stop=2 * np.pi * ncycles, num=seglen, endpoint=False)\n",
    "    y = (np.sin(x) + 1.0) * half_dac\n",
    "    y = np.round(y)\n",
    "    y = np.clip(y, 0, max_dac)\n",
    "    if dac_mode == 'M0':\n",
    "        waves[ii] = y.astype(np.uint16)\n",
    "    else:\n",
    "        waves[ii] = y.astype(np.uint8)\n",
    "    \n",
    "for ii in range(4):\n",
    "    ncycles = num_cycles[ii]\n",
    "    cyclelen = seglen / ncycles\n",
    "    \n",
    "    x = np.linspace(\n",
    "        start=0, stop=2 * np.pi * ncycles, num=seglen, endpoint=False)\n",
    "    y = np.sin(x)\n",
    "    y = np.arcsin(y)* 2 * half_dac / np.pi + half_dac\n",
    "    y = np.round(y)\n",
    "    y = np.clip(y, 0, max_dac)\n",
    "    if dac_mode == 'M0':\n",
    "        waves[ii + 4] = y.astype(np.uint16)\n",
    "    else:\n",
    "        waves[ii + 4] = y.astype(np.uint8)\n",
    "    \n",
    "for ii in range(4):\n",
    "    ncycles = num_cycles[ii]\n",
    "    cyclelen = seglen / ncycles\n",
    "    \n",
    "    x = np.linspace(start=0, stop=seglen, num=seglen, endpoint=False)\n",
    "    y = np.fmod(x, cyclelen)\n",
    "    y = (y <= cyclelen / 2) * max_dac\n",
    "    y = np.round(y)\n",
    "    y = np.clip(y, 0, max_dac)\n",
    "    if dac_mode == 'M0':\n",
    "        waves[ii + 8] = y.astype(np.uint16)\n",
    "    else:\n",
    "        waves[ii + 8] = y.astype(np.uint8)\n",
    "    "
   ]
  },
  {
   "cell_type": "code",
   "execution_count": 10,
   "metadata": {
    "ExecuteTime": {
     "end_time": "2021-01-07T11:45:58.891394Z",
     "start_time": "2021-01-07T11:45:58.843165Z"
    }
   },
   "outputs": [
    {
     "name": "stdout",
     "output_type": "stream",
     "text": [
      "Download wave to segment 1 of channel 1\n",
      "0, no error\n",
      "Download wave to segment 2 of channel 2\n",
      "0, no error\n",
      "Download wave to segment 1 of channel 3\n",
      "0, no error\n",
      "Download wave to segment 2 of channel 4\n",
      "0, no error\n",
      "\n",
      "0, no error\n"
     ]
    }
   ],
   "source": [
    "# Download segments\n",
    "\n",
    "# data-type code: 'B' = uint8, 'H' = uint16\n",
    "data_type = 'H' if dac_mode == 'M0' else 'B'\n",
    "\n",
    "for ii in range(num_channels):\n",
    "    ichan = ii\n",
    "    channb = ichan + 1\n",
    "    segnum = ichan % 2 + 1\n",
    "    wav = waves[ichan]\n",
    "    print('Download wave to segment {0} of channel {1}'.format(segnum, channb))\n",
    "    \n",
    "    cmd = ':INST:CHAN {0}'.format(channb)\n",
    "    pyte.send_cmd(inst, cmd, paranoia_level)\n",
    "    \n",
    "    cmd = ':TRAC:DEF {0}, {1}'.format(segnum, seglen)\n",
    "    pyte.send_cmd(inst, cmd, paranoia_level)\n",
    "    \n",
    "    cmd = ':TRAC:SEL {0}'.format(segnum)\n",
    "    pyte.send_cmd(inst, cmd, paranoia_level)\n",
    "    \n",
    "    inst.timeout = 30000\n",
    "    \n",
    "    inst.write_binary_values(\n",
    "        '*OPC?; :TRAC:DATA', wav, datatype=data_type, is_big_endian=False) # B = uint8, H = uint16\n",
    "    \n",
    "    resp = inst.read();\n",
    "    inst.timeout = 10000;\n",
    "    \n",
    "    resp = inst.query(':SYST:ERR?')\n",
    "    resp = resp.rstrip()\n",
    "    if not resp.startswith('0'):\n",
    "        print('ERROR: \"{0}\" after writing binary values'.format(resp))\n",
    "\n",
    "    cmd = ':SOUR:FUNC:MODE:SEGM {0}'.format(segnum)\n",
    "    pyte.send_cmd(inst, cmd, paranoia_level)\n",
    "\n",
    "    cmd = ':OUTP ON'\n",
    "    pyte.send_cmd(inst, cmd, paranoia_level)\n",
    "    \n",
    "    resp = inst.query(':SYST:ERR?')\n",
    "    print(resp)\n",
    "\n",
    "print()\n",
    "#cmd = \":FREQ:RAST 2.5e9\"\n",
    "#pyte.send_cmd(inst, cmd, paranoia_level)\n",
    "\n",
    "resp = inst.query(':SYST:ERR?')\n",
    "print(resp)\n"
   ]
  },
  {
   "cell_type": "code",
   "execution_count": 11,
   "metadata": {
    "ExecuteTime": {
     "end_time": "2020-12-28T14:48:54.117099Z",
     "start_time": "2020-12-28T14:48:54.111116Z"
    }
   },
   "outputs": [],
   "source": [
    "paranoia_level = 0\n",
    "cmd = ':INST:CHAN 1'\n",
    "pyte.send_cmd(inst, cmd, paranoia_level)"
   ]
  },
  {
   "cell_type": "code",
   "execution_count": 12,
   "metadata": {
    "ExecuteTime": {
     "end_time": "2020-12-28T14:53:58.657131Z",
     "start_time": "2020-12-28T14:53:58.649152Z"
    }
   },
   "outputs": [],
   "source": [
    "cmd = \":FREQ:RAST 2e9\"\n",
    "pyte.send_cmd(inst, cmd, paranoia_level)"
   ]
  },
  {
   "cell_type": "code",
   "execution_count": 13,
   "metadata": {
    "ExecuteTime": {
     "end_time": "2020-12-27T06:35:57.762155Z",
     "start_time": "2020-12-27T06:35:57.628513Z"
    }
   },
   "outputs": [
    {
     "data": {
      "text/plain": [
       "True"
      ]
     },
     "execution_count": 13,
     "metadata": {},
     "output_type": "execute_result"
    }
   ],
   "source": [
    "import tempfile\n",
    "import webbrowser\n",
    "\n",
    "channb = 1\n",
    "cmd = ':INST:CHAN {0}; :SYST:INF:REG?'.format(channb)\n",
    "html_str = inst.query(':INST:CHAN 1; :SYST:INF:REG?')\n",
    "with tempfile.NamedTemporaryFile('w', delete=False, suffix='.html') as f:\n",
    "    url = 'file://' + f.name\n",
    "    f.write(html_str)\n",
    "webbrowser.open(url)"
   ]
  },
  {
   "cell_type": "code",
   "execution_count": null,
   "metadata": {
    "ExecuteTime": {
     "end_time": "2020-12-27T05:59:32.186767Z",
     "start_time": "2020-12-27T05:59:32.177791Z"
    }
   },
   "outputs": [],
   "source": [
    "#html_widget.value = html_str\n",
    "\n",
    "#html_widget = widgets.HTML(\n",
    "#    value=\"\",\n",
    "#    placeholder='Registers',\n",
    "#    description='Registers',\n",
    "#)\n",
    "\n",
    "#channel_widget = widgets.IntText(\n",
    "#    value=1,\n",
    "#    description='Channel',\n",
    "#    disabled=False\n",
    "#)\n",
    "\n",
    "#button_widget = widgets.Button(description=\"Read Registers\")\n",
    "\n",
    "#def on_button_clicked(b):\n",
    "#    global channel_widget\n",
    "#    global html_widget\n",
    "#    global inst\n",
    "#    \n",
    "#    chan = channel_widget.value\n",
    "#    cmd = ':INST:CHAN {0}; :SYST:INF:REG?'.format(chan)\n",
    "#    html_str = inst.query(cmd)\n",
    "#    html_widget.value = html_str\n",
    "\n",
    "    \n",
    "#button_widget.on_click(on_button_clicked)\n",
    "#html_str = inst.query(':INST:CHAN 1; :SYST:INF:REG?')\n",
    "#html_widget.value = html_str\n",
    "#display(channel_widget, button_widget, html_widget)"
   ]
  }
 ],
 "metadata": {
  "hide_input": false,
  "kernelspec": {
   "display_name": "Python 3",
   "language": "python",
   "name": "python3"
  },
  "language_info": {
   "codemirror_mode": {
    "name": "ipython",
    "version": 3
   },
   "file_extension": ".py",
   "mimetype": "text/x-python",
   "name": "python",
   "nbconvert_exporter": "python",
   "pygments_lexer": "ipython3",
   "version": "3.7.3"
  },
  "latex_envs": {
   "LaTeX_envs_menu_present": true,
   "autoclose": false,
   "autocomplete": true,
   "bibliofile": "biblio.bib",
   "cite_by": "apalike",
   "current_citInitial": 1,
   "eqLabelWithNumbers": true,
   "eqNumInitial": 1,
   "hotkeys": {
    "equation": "Ctrl-E",
    "itemize": "Ctrl-I"
   },
   "labels_anchors": false,
   "latex_user_defs": false,
   "report_style_numbering": false,
   "user_envs_cfg": false
  },
  "varInspector": {
   "cols": {
    "lenName": 16,
    "lenType": 16,
    "lenVar": 40
   },
   "kernels_config": {
    "python": {
     "delete_cmd_postfix": "",
     "delete_cmd_prefix": "del ",
     "library": "var_list.py",
     "varRefreshCmd": "print(var_dic_list())"
    },
    "r": {
     "delete_cmd_postfix": ") ",
     "delete_cmd_prefix": "rm(",
     "library": "var_list.r",
     "varRefreshCmd": "cat(var_dic_list()) "
    }
   },
   "position": {
    "height": "764.85px",
    "left": "1550px",
    "right": "20px",
    "top": "120px",
    "width": "350px"
   },
   "types_to_exclude": [
    "module",
    "function",
    "builtin_function_or_method",
    "instance",
    "_Feature"
   ],
   "window_display": true
  }
 },
 "nbformat": 4,
 "nbformat_minor": 4
}
