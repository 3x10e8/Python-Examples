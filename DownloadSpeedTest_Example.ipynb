{
 "cells": [
  {
   "cell_type": "code",
   "execution_count": 1,
   "metadata": {},
   "outputs": [],
   "source": [
    "import os\n",
    "import sys\n",
    "srcpath = os.path.realpath('../SourceFiles')\n",
    "sys.path.append(srcpath)\n",
    "import pyte_visa_utils as pyte\n",
    "import pyte16"
   ]
  },
  {
   "cell_type": "code",
   "execution_count": 2,
   "metadata": {},
   "outputs": [],
   "source": [
    "%matplotlib notebook\n",
    "import numpy as np\n",
    "import time\n",
    "import ipywidgets as widgets\n",
    "import matplotlib.pyplot as plt\n",
    "from instFunction import *"
   ]
  },
  {
   "cell_type": "code",
   "execution_count": 3,
   "metadata": {},
   "outputs": [
    {
     "name": "stdout",
     "output_type": "stream",
     "text": [
      "Failed to open \"TCPIP::192.168.0.60::5025::SOCKET\"\n",
      "(<class 'pyvisa.errors.VisaIOError'>, VisaIOError('VI_ERROR_RSRC_NFOUND (-1073807343): Insufficient location information or the requested device or resource is not present in the system.'), <traceback object at 0x0000028910819688>)\n"
     ]
    },
    {
     "ename": "AttributeError",
     "evalue": "'NoneType' object has no attribute 'query'",
     "output_type": "error",
     "traceback": [
      "\u001b[1;31m---------------------------------------------------------------------------\u001b[0m",
      "\u001b[1;31mAttributeError\u001b[0m                            Traceback (most recent call last)",
      "\u001b[1;32m<ipython-input-3-cba6e71bf2c0>\u001b[0m in \u001b[0;36m<module>\u001b[1;34m\u001b[0m\n\u001b[0;32m      5\u001b[0m \u001b[1;33m\u001b[0m\u001b[0m\n\u001b[0;32m      6\u001b[0m \u001b[0minst\u001b[0m \u001b[1;33m=\u001b[0m \u001b[0mpyte\u001b[0m\u001b[1;33m.\u001b[0m\u001b[0mopen_session\u001b[0m\u001b[1;33m(\u001b[0m\u001b[0minst_addr\u001b[0m\u001b[1;33m)\u001b[0m\u001b[1;33m\u001b[0m\u001b[1;33m\u001b[0m\u001b[0m\n\u001b[1;32m----> 7\u001b[1;33m \u001b[0mresp\u001b[0m \u001b[1;33m=\u001b[0m \u001b[0minst\u001b[0m\u001b[1;33m.\u001b[0m\u001b[0mquery\u001b[0m\u001b[1;33m(\u001b[0m\u001b[1;34m\"*IDN?\"\u001b[0m\u001b[1;33m)\u001b[0m\u001b[1;33m\u001b[0m\u001b[1;33m\u001b[0m\u001b[0m\n\u001b[0m\u001b[0;32m      8\u001b[0m \u001b[0mprint\u001b[0m\u001b[1;33m(\u001b[0m\u001b[1;34m'connected to: '\u001b[0m \u001b[1;33m+\u001b[0m \u001b[0mresp\u001b[0m\u001b[1;33m)\u001b[0m\u001b[1;33m\u001b[0m\u001b[1;33m\u001b[0m\u001b[0m\n",
      "\u001b[1;31mAttributeError\u001b[0m: 'NoneType' object has no attribute 'query'"
     ]
    }
   ],
   "source": [
    "# Connect to instrument\n",
    "\n",
    "# Please choose appropriate address:\n",
    "inst_addr = 'TCPIP::192.168.0.60::5025::SOCKET'\n",
    "\n",
    "inst = pyte.open_session(inst_addr)\n",
    "resp = inst.query(\"*IDN?\")\n",
    "print('connected to: ' + resp)"
   ]
  },
  {
   "cell_type": "code",
   "execution_count": 7,
   "metadata": {},
   "outputs": [],
   "source": [
    "# Paranoia Level (0: low, 1: normal, 2: debug)\n",
    "paranoia_level = 2\n",
    "\n",
    "# Reset the instrument\n",
    "pyte.send_cmd(inst, '*CLS; *RST', paranoia_level)"
   ]
  },
  {
   "cell_type": "code",
   "execution_count": 8,
   "metadata": {},
   "outputs": [
    {
     "name": "stdout",
     "output_type": "stream",
     "text": [
      "DAC-Mode: 8\n",
      "Number of channels: 2\n",
      "Max segment number: 65536\n",
      "Available memory per DDR: 4,286,578,688 wave-bytes\n"
     ]
    }
   ],
   "source": [
    "# Get the DAC mode (8 bits or 16 bits)\n",
    "resp = inst.send_scpi_query(':SYST:INF:DAC?')\n",
    "dac_mode = resp\n",
    "print('DAC mode {0} '.format(dac_mode))\n",
    "\n",
    "if dac_mode == 'M0':\n",
    "    max_dac = 65535\n",
    "    data_type = np.uint16 \n",
    "else:\n",
    "    max_dac = 255\n",
    "    data_type = np.uint8 \n",
    "    \n",
    "half_dac = max_dac // 2.0\n",
    "\n",
    "# Get number of channels\n",
    "resp = inst.query(\":INST:CHAN? MAX\")\n",
    "print(\"Number of channels: \" + resp)\n",
    "num_channels = int(resp)\n",
    "\n",
    "# Get the maximal number of segments\n",
    "resp = inst.query(\":TRACe:SELect:SEGMent? MAX\")\n",
    "print(\"Max segment number: \" + resp)\n",
    "max_seg_number = int(resp)\n",
    "\n",
    "# Get the available memory in bytes of wavform-data (per DDR):\n",
    "resp = inst.query(\":TRACe:FREE?\")\n",
    "arbmem_capacity = int(resp)\n",
    "print(\"Available memory per DDR: {0:,} wave-bytes\".format(arbmem_capacity))\n",
    "\n"
   ]
  },
  {
   "cell_type": "code",
   "execution_count": 9,
   "metadata": {},
   "outputs": [],
   "source": [
    "seglen=102400000\n",
    "num_cycles=2000\n",
    "cyclelen = seglen / num_cycles\n",
    "#sin_wav=pyte.build_sine_wave(cycle_len,num_cycles)\n",
    "x = np.linspace(start=0, stop=2 * np.pi * num_cycles, num=seglen, endpoint=False)\n",
    "y = (np.sin(x) + 1.0) * half_dac\n",
    "y = np.round(y)\n",
    "y = np.clip(y, 0, max_dac)\n",
    "if dac_mode == 'M0':\n",
    "    wave = y.astype(np.uint16)\n",
    "else:\n",
    "    wave = y.astype(np.uint8)\n"
   ]
  },
  {
   "cell_type": "code",
   "execution_count": 10,
   "metadata": {},
   "outputs": [
    {
     "name": "stdout",
     "output_type": "stream",
     "text": [
      "Downloaded the wave in \"12.610927299999958\" seconds\n"
     ]
    }
   ],
   "source": [
    "# data-type code: 'B' = uint8, 'H' = uint16\n",
    "data_type = 'H' if dac_mode == 'M0' else 'B'\n",
    "\n",
    "\n",
    "channb=1\n",
    "segnum=1\n",
    "\n",
    "\n",
    "cmd = ':INST:CHAN {0}'.format(channb)\n",
    "pyte.send_cmd(inst, cmd, paranoia_level)\n",
    "    \n",
    "cmd = ':TRAC:DEF {0}, {1}'.format(segnum, seglen)\n",
    "pyte.send_cmd(inst, cmd, paranoia_level)\n",
    "\n",
    "cmd = ':TRAC:SEL {0}'.format(segnum)\n",
    "pyte.send_cmd(inst, cmd, paranoia_level)\n",
    "\n",
    "inst.timeout = 30000\n",
    "\n",
    "#start_time = time.time()\n",
    "tic = time.perf_counter()\n",
    "\n",
    "inst.write_binary_values('*OPC?; :TRAC:DATA', wave, datatype=data_type)\n",
    "\n",
    "#end_time = time.time()\n",
    "#time_lapsed = end_time - start_time\n",
    "\n",
    "#print('Downloaded the wave in \"{0}\" seconds'.format(time_lapsed))\n",
    "\n",
    "toc = time.perf_counter()\n",
    "timer = float(toc-tic)\n",
    "\n",
    "print('Downloaded the wave in \"{0}\" seconds'.format(timer))\n",
    "\n",
    "resp = inst.read();\n",
    "inst.timeout = 10000;\n",
    "    \n",
    "resp = inst.query(':SYST:ERR?')\n",
    "resp = resp.rstrip()\n",
    "if not resp.startswith('0'):\n",
    "    print('ERROR: \"{0}\" after writing binary values'.format(resp))\n",
    "\n",
    "  "
   ]
  }
 ],
 "metadata": {
  "kernelspec": {
   "display_name": "Python 3",
   "language": "python",
   "name": "python3"
  },
  "language_info": {
   "codemirror_mode": {
    "name": "ipython",
    "version": 3
   },
   "file_extension": ".py",
   "mimetype": "text/x-python",
   "name": "python",
   "nbconvert_exporter": "python",
   "pygments_lexer": "ipython3",
   "version": "3.7.3"
  }
 },
 "nbformat": 4,
 "nbformat_minor": 2
}
