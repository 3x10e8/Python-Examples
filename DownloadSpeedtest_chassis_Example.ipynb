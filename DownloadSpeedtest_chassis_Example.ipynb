{
 "cells": [
  {
   "cell_type": "code",
   "execution_count": 1,
   "metadata": {},
   "outputs": [],
   "source": [
    "import os\n",
    "import sys\n",
    "srcpath = os.path.realpath('../SourceFiles')\n",
    "sys.path.append(srcpath)\n",
    "from teproteus import TEProteusAdmin as TepAdmin\n",
    "from teproteus import TEProteusInst as TepInst"
   ]
  },
  {
   "cell_type": "code",
   "execution_count": 2,
   "metadata": {},
   "outputs": [],
   "source": [
    "%matplotlib notebook\n",
    "import numpy as np\n",
    "import time\n",
    "import ipywidgets as widgets\n",
    "from IPython.core.debugger import set_trace\n",
    "from scipy.signal import chirp, sweep_poly\n",
    "import matplotlib.pyplot as plt"
   ]
  },
  {
   "cell_type": "code",
   "execution_count": 3,
   "metadata": {},
   "outputs": [
    {
     "name": "stdout",
     "output_type": "stream",
     "text": [
      "process id 6820\n"
     ]
    }
   ],
   "source": [
    "pid = os.getpid()\n",
    "print('process id {0}'.format(pid))\n",
    "\n",
    "# Connect to instrument\n",
    "\n",
    "sid = 4\n",
    "Debug = False\n",
    "\n",
    "# Use lib_dir_path = None \n",
    "# for default location (C:\\Windows\\System32)\n",
    "# Change it only if you know what you are doing\n",
    "\n",
    "lib_dir_path = None\n",
    "#lib_dir_path = r'C:\\Tabor\\Proteus\\ProteuaAwg-10349-Costumer'\n",
    "\n",
    "\n",
    "admin = TepAdmin(lib_dir_path)\n",
    "inst = admin.open_instrument(slot_id=sid)\n",
    "\n",
    "inst.default_paranoia_level = 2 # 0, 1 or 2"
   ]
  },
  {
   "cell_type": "code",
   "execution_count": 4,
   "metadata": {},
   "outputs": [
    {
     "name": "stdout",
     "output_type": "stream",
     "text": [
      "DAC mode M0 \n",
      "Number of channels: 4\n",
      "Max segment number: 65536\n",
      "Available memory per DDR: 4,286,578,688 wave-bytes\n"
     ]
    }
   ],
   "source": [
    "\n",
    "#get hw option\n",
    "inst.send_scpi_query(\"*OPT?\")\n",
    "# reset - must!\n",
    "inst.send_scpi_cmd( \"*RST\")\n",
    "    \n",
    "    \n",
    "# Get the DAC mode (8 bits or 16 bits)\n",
    "resp = inst.send_scpi_query(':SYST:INF:DAC?')\n",
    "dac_mode = resp\n",
    "print('DAC mode {0} '.format(dac_mode))\n",
    "\n",
    "if dac_mode == 'M0':\n",
    "    max_dac = 65535\n",
    "    data_type = np.uint16 \n",
    "else:\n",
    "    max_dac = 255\n",
    "    data_type = np.uint8 \n",
    "    \n",
    "half_dac = max_dac // 2.0\n",
    "\n",
    "# Get number of channels\n",
    "resp = inst.send_scpi_query(\":INST:CHAN? MAX\")\n",
    "print(\"Number of channels: \" + resp)\n",
    "num_channels = int(resp)\n",
    "\n",
    "# Get the maximal number of segments\n",
    "resp = inst.send_scpi_query(\":TRACe:SELect:SEGMent? MAX\")\n",
    "print(\"Max segment number: \" + resp)\n",
    "max_seg_number = int(resp)\n",
    "\n",
    "# Get the available memory in bytes of wavform-data (per DDR):\n",
    "resp = inst.send_scpi_query(\":TRACe:FREE?\")\n",
    "arbmem_capacity = int(resp)\n",
    "print(\"Available memory per DDR: {0:,} wave-bytes\".format(arbmem_capacity))\n",
    "\n",
    "\n",
    "    \n",
    "    \n",
    "\n"
   ]
  },
  {
   "cell_type": "code",
   "execution_count": 5,
   "metadata": {},
   "outputs": [
    {
     "name": "stdout",
     "output_type": "stream",
     "text": [
      "Downloaded the wave in \"0.2554786\" seconds\n"
     ]
    },
    {
     "data": {
      "text/plain": [
       "0"
      ]
     },
     "execution_count": 5,
     "metadata": {},
     "output_type": "execute_result"
    }
   ],
   "source": [
    "seglen=102400000\n",
    "num_cycles=200000\n",
    "cyclelen = seglen / num_cycles\n",
    "\n",
    "x = np.linspace(start=0, stop=2 * np.pi * num_cycles, num=seglen, endpoint=False)\n",
    "y = (np.sin(x) + 1.0) * half_dac\n",
    "y = np.round(y)\n",
    "y = np.clip(y, 0, max_dac)\n",
    "if dac_mode == 'M0':\n",
    "    wave = y.astype(np.uint16)\n",
    "else:\n",
    "    wave = y.astype(np.uint8)\n",
    "        \n",
    "# data-type code: 'B' = uint8, 'H' = uint16\n",
    "data_type = 'H' if dac_mode == 'M0' else 'B'\n",
    "\n",
    "\n",
    "channb=1\n",
    "segnum=1\n",
    "\n",
    "cmd = ':INST:CHAN {0}'.format(channb)\n",
    "inst.send_scpi_cmd(cmd)\n",
    "\n",
    "cmd = ':TRAC:DEF {0}, {1}'.format(segnum, seglen)\n",
    "inst.send_scpi_cmd(cmd)\n",
    "\n",
    "cmd = ':TRAC:SEL {0}'.format(segnum)\n",
    "inst.send_scpi_cmd(cmd)\n",
    "\n",
    "inst.timeout = 30000\n",
    "\n",
    "tic = time.perf_counter()\n",
    "\n",
    "inst.write_binary_data(':TRAC:DATA', wave)\n",
    "\n",
    "#print('Downloaded the wave in \"{0}\" seconds'.format(time_lapsed))\n",
    "\n",
    "toc = time.perf_counter()\n",
    "timer = float(toc-tic)\n",
    "\n",
    "print('Downloaded the wave in \"{0}\" seconds'.format(timer))\n",
    "\n",
    "\n",
    "resp = inst.send_scpi_query(':SYST:ERR?')\n",
    "resp = resp.rstrip()\n",
    "if not resp.startswith('0'):\n",
    "     print('ERROR: \"{0}\" after writing binary values'.format(resp))\n",
    "\n",
    "cmd = ':SOUR:FUNC:MODE:SEGM {0}'.format(segnum)\n",
    "inst.send_scpi_cmd(cmd)"
   ]
  },
  {
   "cell_type": "code",
   "execution_count": 6,
   "metadata": {},
   "outputs": [
    {
     "data": {
      "text/plain": [
       "0"
      ]
     },
     "execution_count": 6,
     "metadata": {},
     "output_type": "execute_result"
    }
   ],
   "source": [
    "# close connection\n",
    "inst.close_instrument()\n",
    "admin.close_inst_admin()"
   ]
  },
  {
   "cell_type": "code",
   "execution_count": null,
   "metadata": {},
   "outputs": [],
   "source": []
  }
 ],
 "metadata": {
  "kernelspec": {
   "display_name": "Python 3",
   "language": "python",
   "name": "python3"
  },
  "language_info": {
   "codemirror_mode": {
    "name": "ipython",
    "version": 3
   },
   "file_extension": ".py",
   "mimetype": "text/x-python",
   "name": "python",
   "nbconvert_exporter": "python",
   "pygments_lexer": "ipython3",
   "version": "3.7.3"
  }
 },
 "nbformat": 4,
 "nbformat_minor": 2
}
